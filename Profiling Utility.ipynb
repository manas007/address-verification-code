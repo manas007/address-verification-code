{
 "cells": [
  {
   "cell_type": "code",
   "execution_count": 5,
   "metadata": {},
   "outputs": [
    {
     "name": "stdout",
     "output_type": "stream",
     "text": [
      "1661\n"
     ]
    }
   ],
   "source": [
    "import numpy as np\n",
    "import pandas as pd\n",
    "\n",
    "# enter the filename here, with the extension. Example: NEPH Target List IQVIA _v1.1.xlsx\n",
    "filename = 'contact1.xlsx'\n",
    "\n",
    "if filename.endswith('.xlsx'):\n",
    "    df = pd.read_excel(filename)\n",
    "elif filename.endswith('.csv'):\n",
    "    df = pd.read_csv(filename)\n",
    "else:\n",
    "    print('Unsupported File Type')\n",
    "    raise Exception('Unsupported File Type')\n",
    "\n",
    "\n",
    "df = df.loc[:, ~df.columns.str.contains('^Unnamed')]\n",
    "row_count = df.shape[0]\n",
    "\n",
    "# select the columns that have strings\n",
    "df_strs = df.select_dtypes(['object'])\n",
    "\n",
    "# strip off the whitespaces and convert to lowercase (for all string columns)\n",
    "df[df_strs.columns] = df_strs.apply(lambda x: x.str.strip().str.lower())\n",
    "\n",
    "# output dataframe\n",
    "out_df = pd.DataFrame(columns=['Unique Values', 'Unique %', 'Not Null%', 'Null', 'Null %'], index = df.columns)\n",
    "\n",
    "# number of unique values in the column\n",
    "cal_row = []\n",
    "for column in df:\n",
    "    data = []\n",
    "    unique_count = df[column].nunique()\n",
    "    unique_percent = (float(unique_count) / float(row_count)) * 100\n",
    "\n",
    "    null_count = df[column].isna().sum()\n",
    "    null_percentage = (float(null_count) / float(row_count)) * 100\n",
    "    not_null_percentage = 100 - null_percentage\n",
    "\n",
    "    data.append(unique_count)\n",
    "    data.append(unique_percent)\n",
    "    data.append(not_null_percentage)\n",
    "    data.append(null_count)\n",
    "    data.append(null_percentage)\n",
    "    cal_row.append(data)\n",
    "\n",
    "for idx, d in zip(out_df.index.values, range(0, len(cal_row))):\n",
    "    out_df.loc[idx] = cal_row[d]\n",
    "\n",
    "# print row count\n",
    "print(row_count)\n",
    "\n",
    "# write the output to excel file\n",
    "writer = pd.ExcelWriter('output.xlsx', engine='xlsxwriter')\n",
    "out_df.to_excel(writer)\n",
    "writer.save()"
   ]
  },
  {
   "cell_type": "code",
   "execution_count": null,
   "metadata": {},
   "outputs": [],
   "source": []
  }
 ],
 "metadata": {
  "kernelspec": {
   "display_name": "Python 3",
   "language": "python",
   "name": "python3"
  },
  "language_info": {
   "codemirror_mode": {
    "name": "ipython",
    "version": 3
   },
   "file_extension": ".py",
   "mimetype": "text/x-python",
   "name": "python",
   "nbconvert_exporter": "python",
   "pygments_lexer": "ipython3",
   "version": "3.7.3"
  }
 },
 "nbformat": 4,
 "nbformat_minor": 2
}
